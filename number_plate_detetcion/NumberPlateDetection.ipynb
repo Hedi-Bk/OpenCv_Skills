{
 "cells": [
  {
   "cell_type": "markdown",
   "id": "c4f7ab86",
   "metadata": {},
   "source": [
    "### Number Plate Detection "
   ]
  },
  {
   "cell_type": "code",
   "execution_count": null,
   "id": "aef85439",
   "metadata": {},
   "outputs": [],
   "source": []
  }
 ],
 "metadata": {
  "language_info": {
   "name": "python"
  }
 },
 "nbformat": 4,
 "nbformat_minor": 5
}
